{
  "nbformat": 4,
  "nbformat_minor": 0,
  "metadata": {
    "colab": {
      "name": "Air_canvas.ipynb",
      "provenance": [],
      "authorship_tag": "ABX9TyOkd/NpviEebsaOeoVls+0o",
      "include_colab_link": true
    },
    "kernelspec": {
      "name": "python3",
      "display_name": "Python 3"
    },
    "language_info": {
      "name": "python"
    }
  },
  "cells": [
    {
      "cell_type": "markdown",
      "metadata": {
        "id": "view-in-github",
        "colab_type": "text"
      },
      "source": [
        "<a href=\"https://colab.research.google.com/github/Vedika1102/Air_canvas/blob/main/Air_canvas.ipynb\" target=\"_parent\"><img src=\"https://colab.research.google.com/assets/colab-badge.svg\" alt=\"Open In Colab\"/></a>"
      ]
    },
    {
      "cell_type": "code",
      "execution_count": null,
      "metadata": {
        "id": "vrQsxJG2Y1fe"
      },
      "outputs": [],
      "source": [
        "import cv2\n",
        "import numpy as np\n",
        "\n",
        "frameWidth = 640\n",
        "frameHeight = 480\n",
        "cap = cv2.VideoCapture(0)\n",
        "cap.set(3,frameWidth)\n",
        "cap.set(4,frameHeight)\n",
        "cap.set(10,150) #brightness\n",
        "\n",
        "myColors = [[5,107,0,19,255,255], # orange, purple, green,blue\n",
        "            [133,56,0,159,156,255],\n",
        "            [57,76,0,100,255,255],\n",
        "            [90,48,0,118,255,255]]\n",
        "myColorValues = [[51,153,255],          ## BGR values of orange, purple and green\n",
        "                  [255,0,255],\n",
        "                  [0,255,0],\n",
        "                  [255,0,0]]\n",
        "\n",
        "myPoints =  []  ## [x , y , colorId ]\n",
        "def findColor(img,myColors,myColorValues):\n",
        "    imgHSV = cv2.cvtColor(img,cv2.COLOR_BGR2HSV)\n",
        "    count =0\n",
        "    newPoints = []\n",
        "    for color in myColors:\n",
        "\n",
        "       lower = np.array(color[0:3])\n",
        "       upper = np.array(color[3:6])\n",
        "       mask = cv2.inRange(imgHSV,lower,upper) # filtered image\n",
        "       x,y=getContours(mask)\n",
        "       cv2.circle(imgResult,(x,y),10,myColorValues[count],cv2.FILLED)\n",
        "       if x != 0 and y != 0:\n",
        "           newPoints.append([x, y, count])\n",
        "       count+=1\n",
        "       # cv2.imshow(str(color[0]),mask)\n",
        "    return newPoints\n",
        "def getContours(img):\n",
        "    contours,hierarchy = cv2.findContours(img,cv2.RETR_EXTERNAL,cv2.CHAIN_APPROX_NONE)\n",
        "    x,y,w,h = 0,0,0,0\n",
        "    for cnt in contours:\n",
        "        area = cv2.contourArea(cnt)\n",
        "        if area>500:\n",
        "            # cv2.drawContours(imgResult,cnt,-1,(255,0,0),3)\n",
        "            peri = cv2.arcLength(cnt,True)\n",
        "            approx = cv2.approxPolyDP(cnt,0.02*peri,True)\n",
        "            x,y,w,h = cv2.boundingRect(approx)\n",
        "    return x+w//2,y\n",
        "\n",
        "def drawOnCanvas(myPoints,myColorValues):\n",
        "    for point in myPoints:\n",
        "        cv2.circle(imgResult, (point[0], point[1]), 10, myColorValues[point[2]], cv2.FILLED)\n",
        "while True:\n",
        "    success, img = cap.read()\n",
        "    imgResult = img.copy()\n",
        "    newPoints = findColor(img, myColors,myColorValues)\n",
        "    if len(newPoints) != 0:\n",
        "        for newP in newPoints:\n",
        "            myPoints.append(newP)\n",
        "    if len(myPoints) != 0:\n",
        "        drawOnCanvas(myPoints, myColorValues)\n",
        "\n",
        "    cv2.imshow(\"Result\",imgResult)\n",
        "    if cv2.waitKey(1) & 0XFF == ord('q'):\n",
        "        break\n",
        "\n"
      ]
    }
  ]
}